{
 "cells": [
  {
   "cell_type": "code",
   "execution_count": 97,
   "id": "26defe86",
   "metadata": {},
   "outputs": [],
   "source": [
    "import pandas as pd\n",
    "from metrics_extractor import metrics_io"
   ]
  },
  {
   "cell_type": "code",
   "execution_count": 98,
   "id": "d45c8269",
   "metadata": {},
   "outputs": [],
   "source": [
    "type_exp = \"vanilla\"\n",
    "experiment = \"spawn_100_8s_pvp_interval_cooldown_2s\"\n",
    "metric = \"mc_mspt_seconds_10_mean\""
   ]
  },
  {
   "cell_type": "code",
   "execution_count": 99,
   "id": "7f086a55",
   "metadata": {},
   "outputs": [],
   "source": [
    "df = metrics_io.load_metrics(metric, experiment, type_exp)\n",
    "\n",
    "df['timestamp'] = pd.to_datetime(df['timestamp'])\n",
    "\n",
    "# Round timestamps to the nearest second\n",
    "df['timestamp_sec'] = df['timestamp'].dt.floor('s')\n",
    "\n",
    "# find the minimum and maximum values for each second\n",
    "min_values = df.loc[df.groupby('timestamp_sec')['value'].idxmin()]\n",
    "max_values = df.loc[df.groupby('timestamp_sec')['value'].idxmax()]\n",
    "\n",
    "# Reset index to avoid issues with saving to CSV\n",
    "min_values = min_values.drop(columns=['timestamp_sec'])\n",
    "max_values = max_values.drop(columns=['timestamp_sec'])\n",
    "\n",
    "# Save the results to CSV files\n",
    "min_path = f\"metrics/{type_exp}/{experiment}/min({metric}).csv\"\n",
    "max_path = f\"metrics/{type_exp}/{experiment}/max({metric}).csv\"\n",
    "\n",
    "min_values.to_csv(min_path, index=False)\n",
    "max_values.to_csv(max_path, index=False)"
   ]
  },
  {
   "cell_type": "code",
   "execution_count": null,
   "id": "2bf5451a",
   "metadata": {},
   "outputs": [],
   "source": []
  }
 ],
 "metadata": {
  "kernelspec": {
   "display_name": "venv_metrics_extractor",
   "language": "python",
   "name": "python3"
  },
  "language_info": {
   "codemirror_mode": {
    "name": "ipython",
    "version": 3
   },
   "file_extension": ".py",
   "mimetype": "text/x-python",
   "name": "python",
   "nbconvert_exporter": "python",
   "pygments_lexer": "ipython3",
   "version": "3.10.17"
  }
 },
 "nbformat": 4,
 "nbformat_minor": 5
}
