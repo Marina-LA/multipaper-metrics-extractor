{
 "cells": [
  {
   "cell_type": "code",
   "execution_count": 5,
   "id": "26defe86",
   "metadata": {},
   "outputs": [],
   "source": [
    "import pandas as pd\n",
    "from metrics_extractor import metrics_io"
   ]
  },
  {
   "cell_type": "code",
   "execution_count": 6,
   "id": "d45c8269",
   "metadata": {},
   "outputs": [],
   "source": [
    "type_exp = \"vanilla\"\n",
    "experiment = \"2s_idle_interval\"\n",
    "metric = \"mc_tps\""
   ]
  },
  {
   "cell_type": "code",
   "execution_count": 7,
   "id": "7f086a55",
   "metadata": {},
   "outputs": [],
   "source": [
    "df = metrics_io.load_metrics(metric, experiment, type_exp)\n",
    "\n",
    "df['timestamp'] = pd.to_datetime(df['timestamp'])\n",
    "\n",
    "# Round timestamps to the nearest second\n",
    "df['timestamp_sec'] = df['timestamp'].dt.floor('s')\n",
    "\n",
    "# find the minimum and maximum values for each second\n",
    "min_values = df.loc[df.groupby('timestamp_sec')['value'].idxmin()]\n",
    "max_values = df.loc[df.groupby('timestamp_sec')['value'].idxmax()]\n",
    "\n",
    "# Reset index to avoid issues with saving to CSV\n",
    "min_values = min_values.drop(columns=['timestamp_sec'])\n",
    "max_values = max_values.drop(columns=['timestamp_sec'])\n",
    "\n",
    "# Save the results to CSV files\n",
    "min_path = f\"metrics/{type_exp}/{experiment}/min({metric}).csv\"\n",
    "max_path = f\"metrics/{type_exp}/{experiment}/max({metric}).csv\"\n",
    "\n",
    "min_values.to_csv(min_path, index=False)\n",
    "max_values.to_csv(max_path, index=False)"
   ]
  },
  {
   "cell_type": "code",
   "execution_count": null,
   "id": "2bf5451a",
   "metadata": {},
   "outputs": [],
   "source": []
  }
 ],
 "metadata": {
  "kernelspec": {
   "display_name": "venv_metrics_extractor",
   "language": "python",
   "name": "python3"
  },
  "language_info": {
   "codemirror_mode": {
    "name": "ipython",
    "version": 3
   },
   "file_extension": ".py",
   "mimetype": "text/x-python",
   "name": "python",
   "nbconvert_exporter": "python",
   "pygments_lexer": "ipython3",
   "version": "3.10.17"
  }
 },
 "nbformat": 4,
 "nbformat_minor": 5
}
